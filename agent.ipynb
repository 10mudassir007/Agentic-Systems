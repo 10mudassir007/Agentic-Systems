{
  "nbformat": 4,
  "nbformat_minor": 0,
  "metadata": {
    "colab": {
      "provenance": []
    },
    "kernelspec": {
      "name": "python3",
      "display_name": "Python 3"
    },
    "language_info": {
      "name": "python"
    }
  },
  "cells": [
    {
      "cell_type": "code",
      "source": [
        "!pip install -q langgraph langsmith langchain langchain-groq langchain-community duckduckgo-search"
      ],
      "metadata": {
        "id": "QCPfl3O2i-9d"
      },
      "execution_count": 77,
      "outputs": []
    },
    {
      "cell_type": "code",
      "source": [
        "import os\n",
        "from google.colab import userdata\n",
        "from langchain_groq import ChatGroq\n",
        "from langchain.agents import initialize_agent, Tool\n",
        "from langchain.agents import AgentExecutor\n",
        "from langchain.agents import AgentType\n",
        "from langchain.prompts import PromptTemplate\n",
        "from langchain.chains import LLMChain\n",
        "from langchain.tools import DuckDuckGoSearchResults"
      ],
      "metadata": {
        "id": "xqWM62sys6JZ"
      },
      "execution_count": 78,
      "outputs": []
    },
    {
      "cell_type": "code",
      "source": [
        "groq_key = userdata.get('GROQ_API_KEY')\n",
        "langsmith = userdata.get('LANGSMITH')"
      ],
      "metadata": {
        "id": "yv247O6qjzhO"
      },
      "execution_count": 79,
      "outputs": []
    },
    {
      "cell_type": "code",
      "source": [
        "os.environ[\"LANGCHAIN_API_KEY\"] = langsmith\n",
        "os.environ[\"LANGCHAIN_TRACING_V2\"] = \"true\"\n",
        "os.environ[\"LANGCHAIN_PROJECT\"] = \"firstProject\""
      ],
      "metadata": {
        "id": "UQZFgb6ukFd9"
      },
      "execution_count": 80,
      "outputs": []
    },
    {
      "cell_type": "code",
      "source": [
        "duckduckgo_tool = DuckDuckGoSearchResults(max_results=3)\n",
        "\n",
        "llm = ChatGroq(name='llama3.2-1b-preview',api_key=groq_key)"
      ],
      "metadata": {
        "id": "ETbMxLLLrqoF"
      },
      "execution_count": 81,
      "outputs": []
    },
    {
      "cell_type": "code",
      "source": [
        "prompt_template = \"\"\"You are a reasoning agent. Your task is to reason about the provided query and then perform actions (search, retrieve, etc.). If you think a search is necessary, do it. Otherwise, answer based on your knowledge. You have access to the following tools:\n",
        "\n",
        "{tools}\n",
        "\n",
        "Question: {input}\n",
        "\"\"\"\n",
        "\n",
        "prompt = PromptTemplate(input_variables=[\"tools\", \"input\"], template=prompt_template)\n",
        "llm_chain = LLMChain(prompt=prompt, llm=llm)"
      ],
      "metadata": {
        "id": "jpl0lbY6tc-9"
      },
      "execution_count": 82,
      "outputs": []
    },
    {
      "cell_type": "code",
      "source": [
        "agent = initialize_agent(\n",
        "    tools=[duckduckgo_tool],\n",
        "    agent_type=AgentType.ZERO_SHOT_REACT_DESCRIPTION,\n",
        "    llm=llm, handle_parsing_errors=True\n",
        ")"
      ],
      "metadata": {
        "id": "uzEHU0f4tgJs"
      },
      "execution_count": 85,
      "outputs": []
    },
    {
      "cell_type": "code",
      "source": [
        "while True:\n",
        "  query = input(\"User: \")\n",
        "  if query in ['q','quit']:\n",
        "    break\n",
        "  try:\n",
        "    response = agent.run(query)\n",
        "  except:\n",
        "    response = \"Didn't quite catch that!\"\n",
        "  print(response)"
      ],
      "metadata": {
        "colab": {
          "base_uri": "https://localhost:8080/"
        },
        "id": "Ne9TaaYzibC-",
        "outputId": "699db9a6-432f-482f-d2e3-0ca7372e22ab"
      },
      "execution_count": null,
      "outputs": [
        {
          "output_type": "stream",
          "name": "stdout",
          "text": [
            "User: hello\n",
            "Hello! How can I help you today?\n",
            "User: by telling me temperature in karachi\n",
            "The current temperature in Karachi is 31°C (87.8°F).\n",
            "User: today open stock price of AAPL 24th Nov 2024\n",
            "I cannot provide the exact stock price of AAPL on November 24, 2024. Please check financial news websites or Apple's investor relations page on or near that date for the accurate stock price.\n",
            "User: approximate it\n",
            "Approximations in numerical analysis and calculus typically involve methods for estimating definite integrals or approximating functions using tangent lines and the Taylor series expansion. Examples include the trapezoidal rule, Newton's method, and other numerical techniques.\n",
            "User: approximate the price of AAPL\n",
            "The approximate price of AAPL (Apple Inc.) is around $227, with a 12-month forecast of $239.78.\n"
          ]
        }
      ]
    },
    {
      "cell_type": "code",
      "source": [
        "response"
      ],
      "metadata": {
        "id": "D0_IZYl3uqlL"
      },
      "execution_count": null,
      "outputs": []
    },
    {
      "cell_type": "code",
      "source": [],
      "metadata": {
        "id": "nyqzLfdCwGk4"
      },
      "execution_count": null,
      "outputs": []
    }
  ]
}