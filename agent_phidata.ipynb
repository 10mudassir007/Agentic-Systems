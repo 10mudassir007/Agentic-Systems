{
  "nbformat": 4,
  "nbformat_minor": 0,
  "metadata": {
    "colab": {
      "provenance": []
    },
    "kernelspec": {
      "name": "python3",
      "display_name": "Python 3"
    },
    "language_info": {
      "name": "python"
    }
  },
  "cells": [
    {
      "cell_type": "code",
      "execution_count": 27,
      "metadata": {
        "colab": {
          "base_uri": "https://localhost:8080/"
        },
        "id": "mEy65citclEG",
        "outputId": "f0184da9-025b-4ea3-d73f-a8dcfe1777e4"
      },
      "outputs": [
        {
          "output_type": "stream",
          "name": "stdout",
          "text": [
            "\u001b[?25l   \u001b[90m━━━━━━━━━━━━━━━━━━━━━━━━━━━━━━━━━━━━━━━━\u001b[0m \u001b[32m0.0/104.7 kB\u001b[0m \u001b[31m?\u001b[0m eta \u001b[36m-:--:--\u001b[0m\r\u001b[2K   \u001b[90m━━━━━━━━━━━━━━━━━━━━━━━━━━━━━━━━━━━━━━━━\u001b[0m \u001b[32m104.7/104.7 kB\u001b[0m \u001b[31m3.0 MB/s\u001b[0m eta \u001b[36m0:00:00\u001b[0m\n",
            "\u001b[?25h"
          ]
        }
      ],
      "source": [
        "!pip install -Uq phidata groq duckduckgo-search tavily-python yfinance"
      ]
    },
    {
      "cell_type": "code",
      "source": [
        "from phi.agent import Agent\n",
        "from phi.model.groq import Groq\n",
        "from phi.tools.tavily import TavilyTools"
      ],
      "metadata": {
        "id": "Ues8WJD5dUji"
      },
      "execution_count": 18,
      "outputs": []
    },
    {
      "cell_type": "code",
      "source": [
        "import os\n",
        "from google.colab import userdata\n",
        "\n",
        "os.environ['GROQ_API_KEY'] = userdata.get(\"GROQ_API_KEY\")\n",
        "os.environ['TAVILY_API_KEY'] = userdata.get(\"TAVILY_API_KEY\")"
      ],
      "metadata": {
        "id": "pn7pKPz1fI0I"
      },
      "execution_count": 22,
      "outputs": []
    },
    {
      "cell_type": "code",
      "source": [
        "agent = Agent(\n",
        "    name='web-search-agent',\n",
        "    model=Groq(id='llama-3.2-1b-preview'),\n",
        "    tools=[TavilyTools()],\n",
        "    instructions=['Always include sources'],\n",
        "    show_tool_calls=True,\n",
        "    markdown=True\n",
        ")"
      ],
      "metadata": {
        "id": "Hs9MA_sFeCPy"
      },
      "execution_count": 23,
      "outputs": []
    },
    {
      "cell_type": "code",
      "source": [
        "agent.run(\"what are siamese networks\").content"
      ],
      "metadata": {
        "colab": {
          "base_uri": "https://localhost:8080/",
          "height": 122
        },
        "id": "lgbpMvNPgoux",
        "outputId": "62761bae-b754-4ecf-ac7d-59eb7361e8bc"
      },
      "execution_count": 31,
      "outputs": [
        {
          "output_type": "execute_result",
          "data": {
            "text/plain": [
              "'<function=siamese_network {\"siamese_network\": \"A siamese network is a type of neural network that is designed to recognize between-class differences between two sets of input data, such as images and speech. It consists of two separate networks, one for each of the two classes, which are trained simultaneously. The models are typically small, efficient, and can be fine-tuned for specific tasks and datasets. }\\n\\nAnother example of Siamese Network - Image Matching\\n<function=image_matching {\"image_matching\": \"In computer vision, a Siamese network is used for image matching tasks such as image retrieval and image classification. It uses two separate CNNs with shared weights and a classifier, two branches of the network, one for each class. The network takes in an image and a query image, and predicts a matching score between the two images. The network is trained to minimize the error between the predicted and ground-truth matches. }>'"
            ],
            "application/vnd.google.colaboratory.intrinsic+json": {
              "type": "string"
            }
          },
          "metadata": {},
          "execution_count": 31
        }
      ]
    }
  ]
}