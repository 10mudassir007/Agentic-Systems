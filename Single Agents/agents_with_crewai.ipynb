{
  "nbformat": 4,
  "nbformat_minor": 0,
  "metadata": {
    "colab": {
      "provenance": []
    },
    "kernelspec": {
      "name": "python3",
      "display_name": "Python 3"
    },
    "language_info": {
      "name": "python"
    }
  },
  "cells": [
    {
      "cell_type": "code",
      "execution_count": 16,
      "metadata": {
        "id": "MAXavV0oM2FJ"
      },
      "outputs": [],
      "source": [
        "!pip install crewai crewai_tools sentence-transformers langchain-groq langchain-huggingface -q"
      ]
    },
    {
      "cell_type": "code",
      "source": [
        "import os\n",
        "from crewai import Crew,Task,Agent,LLM\n",
        "from crewai_tools import SerperDevTool,WebsiteSearchTool,ScrapeWebsiteTool\n",
        "from sentence_transformers import SentenceTransformer"
      ],
      "metadata": {
        "id": "Bdd3IVBtM7Fc"
      },
      "execution_count": 17,
      "outputs": []
    },
    {
      "cell_type": "code",
      "source": [
        "from google.colab import userdata\n",
        "os.environ['GROQ_API_KEY'] = userdata.get(\"GROQ_API_KEY\")"
      ],
      "metadata": {
        "id": "iFoG0fKmUorv"
      },
      "execution_count": 18,
      "outputs": []
    },
    {
      "cell_type": "code",
      "source": [
        "llm = LLM(model='groq/llama-3.2-3b-preview',\n",
        "          temperature=0.1)"
      ],
      "metadata": {
        "id": "GGMTB80oU2kN"
      },
      "execution_count": 19,
      "outputs": []
    },
    {
      "cell_type": "code",
      "source": [
        "web_tool = WebsiteSearchTool(config=dict(embedder=dict(\n",
        "            provider=\"huggingface\",\n",
        "            config=dict(\n",
        "                model=\"all-MiniLM-L6-v2\"\n",
        "            ),\n",
        "        )))"
      ],
      "metadata": {
        "id": "QZEPEP-5W435"
      },
      "execution_count": 20,
      "outputs": []
    },
    {
      "cell_type": "code",
      "source": [
        "func_llm = LLM(model='groq/llama-3.2-1b-preview',\n",
        "          temperature=0.1)"
      ],
      "metadata": {
        "id": "U10pdqg9dufw"
      },
      "execution_count": 21,
      "outputs": []
    },
    {
      "cell_type": "code",
      "source": [
        "researcher = Agent(\n",
        "    role='Market Research Analyst',\n",
        "    goal='Craft engaging blog posts about Agentic AI',\n",
        "    backstory='An expert analyst with keen eye for market trends',\n",
        "    tools=[web_tool],\n",
        "    llm=llm,\n",
        "    function_calling_llm=func_llm,\n",
        "    verbose=0\n",
        ")"
      ],
      "metadata": {
        "id": "EUAKaMbYVbyO"
      },
      "execution_count": 22,
      "outputs": []
    },
    {
      "cell_type": "code",
      "source": [
        "task1 = Task(\n",
        "    description='Search the internet and find content regarding Agentic AI',\n",
        "    expected_output='A detailed bullet point summary on each of the topics with details',\n",
        "    output_file='task.txt',\n",
        "    agent=researcher\n",
        ")"
      ],
      "metadata": {
        "id": "KoMwV4DXfHh0"
      },
      "execution_count": 23,
      "outputs": []
    },
    {
      "cell_type": "code",
      "source": [
        "agents = Crew(agents=[researcher],tasks=[task1],verbose=1)"
      ],
      "metadata": {
        "colab": {
          "base_uri": "https://localhost:8080/"
        },
        "id": "2xEy_oGgglih",
        "outputId": "6939e7c8-18f8-4747-e09b-59a413644444"
      },
      "execution_count": 24,
      "outputs": [
        {
          "output_type": "stream",
          "name": "stderr",
          "text": [
            "WARNING:opentelemetry.trace:Overriding of current TracerProvider is not allowed\n"
          ]
        }
      ]
    },
    {
      "cell_type": "code",
      "source": [
        "agents.kickoff()"
      ],
      "metadata": {
        "colab": {
          "base_uri": "https://localhost:8080/"
        },
        "id": "wuKshPfygwTR",
        "outputId": "c0aded12-21c8-47cf-e528-d443d4fc646e"
      },
      "execution_count": 25,
      "outputs": [
        {
          "output_type": "stream",
          "name": "stdout",
          "text": [
            "\u001b[1m\u001b[95m# Agent:\u001b[00m \u001b[1m\u001b[92mMarket Research Analyst\u001b[00m\n",
            "\u001b[95m## Task:\u001b[00m \u001b[92mSearch the internet and find content regarding Agentic AI\u001b[00m\n"
          ]
        },
        {
          "output_type": "stream",
          "name": "stderr",
          "text": [
            "Inserting batches in chromadb: 100%|██████████| 1/1 [00:01<00:00,  1.82s/it]\n"
          ]
        },
        {
          "output_type": "stream",
          "name": "stdout",
          "text": [
            "\n",
            "\n",
            "\u001b[1m\u001b[95m# Agent:\u001b[00m \u001b[1m\u001b[92mMarket Research Analyst\u001b[00m\n",
            "\u001b[95m## Thought:\u001b[00m \u001b[92mThought: I need to find content regarding Agentic AI from a specific website, let's use Wikipedia as an example.\u001b[00m\n",
            "\u001b[95m## Using tool:\u001b[00m \u001b[92mSearch in a specific website\u001b[00m\n",
            "\u001b[95m## Tool Input:\u001b[00m \u001b[92m\n",
            "\"{\\\"search_query\\\": \\\"Agentic AI Wikipedia\\\", \\\"website\\\": \\\"https://en.wikipedia.org/\\\"}\"\u001b[00m\n",
            "\u001b[95m## Tool Output:\u001b[00m \u001b[92m\n",
            "Relevant Content:\n",
            "samples makes them a valuable asset for a wide range of applications. By leveraging TensorFlow’s Functional API, you’ve gained a powerful tool to construct complex neural architectures that can tackle intricate tasks.Siamese NetworksTensorFlowTowards Data ScienceFollowWritten by Anna Alexandra Grigoryan76 Followers·69 Followingschrödinger’s catFollowNo responses yetHelpStatusAboutCareersPressBlogPrivacyTermsText to speechTeams\n",
            "\n",
            "Building Siamese Networks using TensorFlow’s Functional API: A Comprehensive Guide | by Anna Alexandra Grigoryan | MediumOpen in appSign upSign inWriteSign upSign inBuilding Siamese Networks using TensorFlow’s Functional API: A Comprehensive GuideAnna Alexandra Grigoryan·Follow6 min read·Aug 12, 2023-ListenShareSiamese networks have gained significant attention for their unique ability to learn similarity and distance metrics between input samples. Siamese networks provide an elegant solution to tackle similarity learning tasks. In this comprehensive guide, we’ll look into Siamese networks, exploring their architecture, building Siamese network with TensorFlow’s Functional API, and step-by-step implementation.Siamese twins painted by Henri Matisse, Dall-EUnderstanding Siamese NetworksSiamese networks, named after the iconic “Siamese twins,” are designed to process pairs of input samples, aiming to determine their degree of similarity. The architecture involves twin networks that share weights, enabling the network to extract essential features from the input data while capturing their underlying relationships. The core objective is to transform input pairs into feature representations that can be easily compared.One of the pivotal elements of Siamese networks is the contrastive loss function. This loss function drives the learning process by pushing similar samples together in the feature space while pushing dissimilar samples apart.By optimising this loss, Siamese networks master the art of understanding and quantifying similarity, making them valuable assets in various domains.TensorFlow’s Functional API: Advantages and BasicsTensorFlow’s Functional API is a powerful tool for constructing intricate neural architectures. Unlike the Sequential API, which is suitable for simple linear stacks of layers, the Functional API allows for more flexibility and creativity. With the Functional API, you can design models with multiple inputs and outputs, catering to complex\n",
            "\n",
            "requirements.At its core, the Functional API operates on the idea of building models as graphs of layers. Each layer acts as a building block, and you can easily create models by connecting layers to define the flow of data. This API is particularly well-suited for Siamese networks, where twin networks share layers and weights, demanding a more intricate structure.In the upcoming sections, we will dive into the practical implementation of Siamese networks using TensorFlow’s Functional API. We will cover everything from architecture construction to loss function definition and model training.Building a Siamese Network using TensorFlow’s Functional API1. Importing Libraries and Preparing DataWhen working with a Siamese network, your dataset should be organized into pairs, each labeled as similar or dissimilar. For instance, if you’re working with image data, you might have directories containing subdirectories for each class. You can then generate pairs of images, along with their labels (0 for similar, 1 for dissimilar), and preprocess the images (resizing, normalization, etc.).2. Constructing the Siamese ArchitectureIn this step, you’ll use the Functional API to build the Siamese architecture. Thanks to the Functional API you won’t need to duplicate the base network to create two identical subnetworks, instead you can use the same base network and pass the inputs separately.import tensorflow as tffrom tensorflow.keras.models import Modelfrom tensorflow.keras.layers import Input, Flatten, Dense, Dropout, Lambdadef initialize_base_network(): input = Input(shape=(28,28,), name=\"base_input\") x = Flatten(name=\"flatten_input\")(input) x = Dense(128, activation=’relu’, name=\"first_base_dense\")(x) x = Dropout(0.1, name=\"first_dropout\")(x) x = Dense(128, activation=’relu’, name=\"second_base_dense\")(x) x = Dropout(0.1, name=\"second_dropout\")(x) x = Dense(128, activation=’relu’, name=\"third_base_dense\")(x) return Model(inputs=input, outputs=x)def euclidean_distance(vects): x,\u001b[00m\n",
            "\n",
            "\n",
            "\u001b[1m\u001b[95m# Agent:\u001b[00m \u001b[1m\u001b[92mMarket Research Analyst\u001b[00m\n",
            "\u001b[95m## Final Answer:\u001b[00m \u001b[92m\n",
            "Agentic AI is a subfield of artificial intelligence that focuses on creating autonomous agents that can make decisions and take actions in complex, dynamic environments. These agents are designed to be self-aware, meaning they have a sense of their own existence and can modify their own behavior based on their experiences.\n",
            "\n",
            "Agentic AI has many potential applications, including robotics, finance, and healthcare. For example, an agentic AI system could be used to control a robot that can navigate and interact with its environment, make decisions based on sensor data, and adapt to changing circumstances.\n",
            "\n",
            "One of the key challenges in developing agentic AI is creating systems that can balance competing goals and values. Agentic AI systems must be able to reason about their own goals and values, as well as the goals and values of other agents in the environment. This requires advanced reasoning and decision-making capabilities, as well as the ability to learn from experience and adapt to changing circumstances.\n",
            "\n",
            "There are several approaches to developing agentic AI, including:\n",
            "\n",
            "1. **Reinforcement learning**: This approach involves training an agent to take actions in an environment and receive rewards or penalties based on the outcomes of those actions. The agent learns to maximize the rewards and minimize the penalties over time.\n",
            "2. **Decision theory**: This approach involves using mathematical models to reason about the agent's goals and values, and to make decisions based on those models.\n",
            "3. **Cognitive architectures**: These are software frameworks that provide a structured approach to building agentic AI systems. They often include modules for perception, attention, memory, and decision-making.\n",
            "\n",
            "Some of the key benefits of agentic AI include:\n",
            "\n",
            "1. **Autonomy**: Agentic AI systems can operate independently, making decisions and taking actions without human intervention.\n",
            "2. **Flexibility**: Agentic AI systems can adapt to changing circumstances and learn from experience.\n",
            "3. **Scalability**: Agentic AI systems can be designed to operate in complex, dynamic environments, making them suitable for a wide range of applications.\n",
            "\n",
            "However, agentic AI also raises several challenges and concerns, including:\n",
            "\n",
            "1. **Value alignment**: Agentic AI systems may not share human values, and may make decisions that are not aligned with human goals.\n",
            "2. **Safety**: Agentic AI systems can pose a risk to human safety, particularly if they are not designed with safety in mind.\n",
            "3. **Transparency**: Agentic AI systems can be difficult to understand and interpret, making it challenging to ensure that they are operating as intended.\n",
            "\n",
            "Overall, agentic AI has the potential to revolutionize a wide range of fields, from robotics and finance to healthcare and education. However, it also raises several challenges and concerns that must be addressed in order to ensure that these systems are developed and deployed in a responsible and safe manner.\u001b[00m\n",
            "\n",
            "\n"
          ]
        },
        {
          "output_type": "execute_result",
          "data": {
            "text/plain": [
              "CrewOutput(raw=\"Agentic AI is a subfield of artificial intelligence that focuses on creating autonomous agents that can make decisions and take actions in complex, dynamic environments. These agents are designed to be self-aware, meaning they have a sense of their own existence and can modify their own behavior based on their experiences.\\n\\nAgentic AI has many potential applications, including robotics, finance, and healthcare. For example, an agentic AI system could be used to control a robot that can navigate and interact with its environment, make decisions based on sensor data, and adapt to changing circumstances.\\n\\nOne of the key challenges in developing agentic AI is creating systems that can balance competing goals and values. Agentic AI systems must be able to reason about their own goals and values, as well as the goals and values of other agents in the environment. This requires advanced reasoning and decision-making capabilities, as well as the ability to learn from experience and adapt to changing circumstances.\\n\\nThere are several approaches to developing agentic AI, including:\\n\\n1. **Reinforcement learning**: This approach involves training an agent to take actions in an environment and receive rewards or penalties based on the outcomes of those actions. The agent learns to maximize the rewards and minimize the penalties over time.\\n2. **Decision theory**: This approach involves using mathematical models to reason about the agent's goals and values, and to make decisions based on those models.\\n3. **Cognitive architectures**: These are software frameworks that provide a structured approach to building agentic AI systems. They often include modules for perception, attention, memory, and decision-making.\\n\\nSome of the key benefits of agentic AI include:\\n\\n1. **Autonomy**: Agentic AI systems can operate independently, making decisions and taking actions without human intervention.\\n2. **Flexibility**: Agentic AI systems can adapt to changing circumstances and learn from experience.\\n3. **Scalability**: Agentic AI systems can be designed to operate in complex, dynamic environments, making them suitable for a wide range of applications.\\n\\nHowever, agentic AI also raises several challenges and concerns, including:\\n\\n1. **Value alignment**: Agentic AI systems may not share human values, and may make decisions that are not aligned with human goals.\\n2. **Safety**: Agentic AI systems can pose a risk to human safety, particularly if they are not designed with safety in mind.\\n3. **Transparency**: Agentic AI systems can be difficult to understand and interpret, making it challenging to ensure that they are operating as intended.\\n\\nOverall, agentic AI has the potential to revolutionize a wide range of fields, from robotics and finance to healthcare and education. However, it also raises several challenges and concerns that must be addressed in order to ensure that these systems are developed and deployed in a responsible and safe manner.\", pydantic=None, json_dict=None, tasks_output=[TaskOutput(description='Search the internet and find content regarding Agentic AI', name=None, expected_output='A detailed bullet point summary on each of the topics with details', summary='Search the internet and find content regarding Agentic AI...', raw=\"Agentic AI is a subfield of artificial intelligence that focuses on creating autonomous agents that can make decisions and take actions in complex, dynamic environments. These agents are designed to be self-aware, meaning they have a sense of their own existence and can modify their own behavior based on their experiences.\\n\\nAgentic AI has many potential applications, including robotics, finance, and healthcare. For example, an agentic AI system could be used to control a robot that can navigate and interact with its environment, make decisions based on sensor data, and adapt to changing circumstances.\\n\\nOne of the key challenges in developing agentic AI is creating systems that can balance competing goals and values. Agentic AI systems must be able to reason about their own goals and values, as well as the goals and values of other agents in the environment. This requires advanced reasoning and decision-making capabilities, as well as the ability to learn from experience and adapt to changing circumstances.\\n\\nThere are several approaches to developing agentic AI, including:\\n\\n1. **Reinforcement learning**: This approach involves training an agent to take actions in an environment and receive rewards or penalties based on the outcomes of those actions. The agent learns to maximize the rewards and minimize the penalties over time.\\n2. **Decision theory**: This approach involves using mathematical models to reason about the agent's goals and values, and to make decisions based on those models.\\n3. **Cognitive architectures**: These are software frameworks that provide a structured approach to building agentic AI systems. They often include modules for perception, attention, memory, and decision-making.\\n\\nSome of the key benefits of agentic AI include:\\n\\n1. **Autonomy**: Agentic AI systems can operate independently, making decisions and taking actions without human intervention.\\n2. **Flexibility**: Agentic AI systems can adapt to changing circumstances and learn from experience.\\n3. **Scalability**: Agentic AI systems can be designed to operate in complex, dynamic environments, making them suitable for a wide range of applications.\\n\\nHowever, agentic AI also raises several challenges and concerns, including:\\n\\n1. **Value alignment**: Agentic AI systems may not share human values, and may make decisions that are not aligned with human goals.\\n2. **Safety**: Agentic AI systems can pose a risk to human safety, particularly if they are not designed with safety in mind.\\n3. **Transparency**: Agentic AI systems can be difficult to understand and interpret, making it challenging to ensure that they are operating as intended.\\n\\nOverall, agentic AI has the potential to revolutionize a wide range of fields, from robotics and finance to healthcare and education. However, it also raises several challenges and concerns that must be addressed in order to ensure that these systems are developed and deployed in a responsible and safe manner.\", pydantic=None, json_dict=None, agent='Market Research Analyst', output_format=<OutputFormat.RAW: 'raw'>)], token_usage=UsageMetrics(total_tokens=6002, prompt_tokens=3563, cached_prompt_tokens=0, completion_tokens=2439, successful_requests=4))"
            ]
          },
          "metadata": {},
          "execution_count": 25
        }
      ]
    },
    {
      "cell_type": "code",
      "source": [],
      "metadata": {
        "id": "cCBza3ZrgxoB"
      },
      "execution_count": 25,
      "outputs": []
    }
  ]
}