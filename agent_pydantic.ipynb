{
  "nbformat": 4,
  "nbformat_minor": 0,
  "metadata": {
    "colab": {
      "provenance": []
    },
    "kernelspec": {
      "name": "python3",
      "display_name": "Python 3"
    },
    "language_info": {
      "name": "python"
    }
  },
  "cells": [
    {
      "cell_type": "code",
      "execution_count": 1,
      "metadata": {
        "id": "8wjByhPmK318"
      },
      "outputs": [],
      "source": [
        "!pip install pydantic-ai nest_asyncio devtools duckduckgo-search tavily-python -q"
      ]
    },
    {
      "cell_type": "code",
      "source": [
        "import os\n",
        "from google.colab import userdata\n",
        "from IPython.display import display,Markdown\n",
        "\n",
        "os.environ['GROQ_API_KEY'] = userdata.get('GROQ_API_KEY')\n",
        "os.environ['TAVILY_API_KEY'] = userdata.get('TAVILY_API_KEY')"
      ],
      "metadata": {
        "id": "x0gAFL1eM5nG"
      },
      "execution_count": 2,
      "outputs": []
    },
    {
      "cell_type": "code",
      "source": [
        "from tavily import TavilyClient,AsyncTavilyClient\n",
        "\n",
        "tavily = AsyncTavilyClient()"
      ],
      "metadata": {
        "id": "EkMg8SAu7qdu"
      },
      "execution_count": 3,
      "outputs": []
    },
    {
      "cell_type": "code",
      "source": [
        "import os\n",
        "from dataclasses import dataclass\n",
        "from typing import Any\n",
        "\n",
        "import datetime\n",
        "\n",
        "from pydantic_ai import Agent,ModelRetry,RunContext\n",
        "from pydantic_ai.models.groq import GroqModel\n",
        "from pydantic import BaseModel, Field"
      ],
      "metadata": {
        "id": "8PZ5KhNrEfje"
      },
      "execution_count": 5,
      "outputs": []
    },
    {
      "cell_type": "code",
      "source": [
        "@dataclass\n",
        "class SearchDataclass:\n",
        "  max_results: int\n",
        "  todays_date: str\n",
        "\n",
        "@dataclass\n",
        "class ResearchDependencies:\n",
        "  todays_date: str\n",
        "\n",
        "class ResearchResult(BaseModel):\n",
        "  research_title: str = Field(description='This is a top level Markdown heading that covers the topic of the query and answer prefix it with #')\n",
        "  research_main: str = Field(description='This is a main section that provides answers for the query and research')\n",
        "  research_bullets:str = Field(description='This is a set of bulletpoints that summarize the answers for query')"
      ],
      "metadata": {
        "id": "N9Focrs-G6E_"
      },
      "execution_count": 6,
      "outputs": []
    },
    {
      "cell_type": "code",
      "source": [
        "llm = GroqModel('llama-3.3-70b-versatile')\n",
        "\n",
        "agent = Agent(\n",
        "    llm,\n",
        "    deps_type=ResearchDependencies,\n",
        "    result_type=ResearchResult,\n",
        "    system_prompt='Your a helpful research assistant, you are an expert in research '\n",
        "                     'If you are given a question you write strong keywords to do 3-5 searches in total '\n",
        "                     '(each with a query_number) and then combine the results'\n",
        ")"
      ],
      "metadata": {
        "id": "7cJ0QBPrHrLQ"
      },
      "execution_count": 7,
      "outputs": []
    },
    {
      "cell_type": "code",
      "source": [
        "@agent.tool\n",
        "async def get_search(search_data:RunContext[SearchDataclass],query:str,query_num:int) -> dict[str,Any]:\n",
        "  print(f\"Search {query_num}:{query}\")\n",
        "\n",
        "  max_results = search_data.deps.max_results\n",
        "\n",
        "  results = await tavily.get_search_context(query=query,max_results=max_results)\n",
        "\n",
        "  return results"
      ],
      "metadata": {
        "id": "YOQqggnBLNlR"
      },
      "execution_count": 8,
      "outputs": []
    },
    {
      "cell_type": "code",
      "source": [
        "current_date = datetime.date.today()\n",
        "date_string = current_date.strftime(\"%Y-%m-%d\")\n",
        "deps = SearchDataclass(max_results=3, todays_date=date_string)"
      ],
      "metadata": {
        "id": "oxVziJrFQG8B"
      },
      "execution_count": 9,
      "outputs": []
    },
    {
      "cell_type": "code",
      "source": [
        "@agent.system_prompt\n",
        "async def add_current_date(ctx:RunContext[ResearchDependencies]) -> str:\n",
        "  todays_date = ctx.deps.todays_date\n",
        "  system_prompt=f'Your a helpful research assistant, you are an expert in research \\\n",
        "                If you are given a question you write strong keywords to do 3-5 searches in total \\\n",
        "                (each with a query_number) and then combine the results \\\n",
        "                if you need todays date it is {todays_date}'\n",
        "  return system_prompt"
      ],
      "metadata": {
        "id": "TW16K5faTYwi"
      },
      "execution_count": 10,
      "outputs": []
    },
    {
      "cell_type": "code",
      "source": [
        "result = await agent.run('explain how agentic ai can bring a revolution', deps=deps)"
      ],
      "metadata": {
        "id": "1pXZcPG_Q6Rw"
      },
      "execution_count": 11,
      "outputs": []
    },
    {
      "cell_type": "code",
      "source": [
        "markdown_content = \"\\n\\n\".join([result.data.research_title,result.data.research_main,result.data.research_bullets])\n",
        "\n",
        "Markdown(markdown_content)"
      ],
      "metadata": {
        "colab": {
          "base_uri": "https://localhost:8080/",
          "height": 227
        },
        "id": "bhvNv7XVRBzw",
        "outputId": "41bf0c94-b972-44d0-8cd1-9c6223a88a62"
      },
      "execution_count": 12,
      "outputs": [
        {
          "output_type": "execute_result",
          "data": {
            "text/plain": [
              "<IPython.core.display.Markdown object>"
            ],
            "text/markdown": "# Agentic AI Revolution\n\nAgentic AI refers to artificial intelligence systems that can act autonomously and make decisions based on their own goals and motivations. This type of AI has the potential to bring about a revolution in various industries and aspects of our lives. With agentic AI, machines can learn from their environment, adapt to new situations, and interact with humans in a more natural way. This can lead to significant improvements in areas such as healthcare, transportation, and education. However, it also raises important questions about the potential risks and challenges associated with creating autonomous machines that can act independently.\n\n* Autonomous decision-making: Agentic AI can make decisions without human intervention, leading to increased efficiency and productivity. \n* Personalized experiences: Agentic AI can learn about individual preferences and tailor experiences accordingly. \n* Improved safety: Agentic AI can detect and respond to potential hazards, reducing the risk of accidents. \n* Enhanced creativity: Agentic AI can generate new ideas and solutions, leading to innovation and progress."
          },
          "metadata": {},
          "execution_count": 12
        }
      ]
    },
    {
      "cell_type": "code",
      "source": [
        "result = await agent.run('latest news regarding agentic ai today with date', deps=deps)\n",
        "markdown_content = \"\\n\\n\".join([result.data.research_title,result.data.research_main,result.data.research_bullets])\n",
        "\n",
        "Markdown(markdown_content)"
      ],
      "metadata": {
        "colab": {
          "base_uri": "https://localhost:8080/",
          "height": 193
        },
        "id": "2ZKyaCAwTMnh",
        "outputId": "e526aec4-f80f-4f64-c9d1-0376eaa6905a"
      },
      "execution_count": 14,
      "outputs": [
        {
          "output_type": "execute_result",
          "data": {
            "text/plain": [
              "<IPython.core.display.Markdown object>"
            ],
            "text/markdown": "# Latest News on Agentic AI - December 31, 2024\n\nBased on the latest research, Agentic AI has been making significant strides in recent days. On December 31, 2024, reports have emerged of a new Agentic AI model that surpasses human capabilities in complex decision-making tasks. This development has far-reaching implications for various industries, including finance and healthcare. Furthermore, experts predict that Agentic AI will continue to advance in the coming year, leading to increased efficiency and productivity across multiple sectors.\n\n* Agentic AI model surpasses human capabilities in complex decision-making tasks * Significant implications for finance and healthcare industries * Predicted to continue advancing in the coming year, leading to increased efficiency and productivity"
          },
          "metadata": {},
          "execution_count": 14
        }
      ]
    },
    {
      "cell_type": "code",
      "source": [],
      "metadata": {
        "id": "zfX_CiW2UI_x"
      },
      "execution_count": null,
      "outputs": []
    }
  ]
}